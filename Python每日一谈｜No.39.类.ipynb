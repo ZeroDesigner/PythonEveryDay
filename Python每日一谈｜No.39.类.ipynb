{
 "cells": [
  {
   "cell_type": "markdown",
   "id": "7067670e-13f7-468f-80b3-f02dacc8838f",
   "metadata": {},
   "source": [
    "## python 类"
   ]
  },
  {
   "cell_type": "markdown",
   "id": "ae828402-6d0b-43a4-a649-9f803c8a6522",
   "metadata": {},
   "source": [
    "## 前言\n",
    "类是一个十分抽象的概念\n",
    "你可以简单的把他理解为一个代码块\n",
    "或者具体理解为某种动物，它具有某种属性，可以执行某种操作"
   ]
  },
  {
   "cell_type": "markdown",
   "id": "b6cc8080-175c-4ff4-881c-90c6bd6852fa",
   "metadata": {},
   "source": [
    "### 定义一个类\n",
    "在python中定义一个类的格式有两种"
   ]
  },
  {
   "cell_type": "code",
   "execution_count": 1,
   "id": "a522032d-7f24-4fbb-96d4-757db98f1282",
   "metadata": {},
   "outputs": [],
   "source": [
    "# 第一种\n",
    "class Empty:\n",
    "    pass"
   ]
  },
  {
   "cell_type": "code",
   "execution_count": 3,
   "id": "b37d3c69-58da-4dac-9386-cdea1ea6c962",
   "metadata": {},
   "outputs": [],
   "source": [
    "# 第二种\n",
    "class Empty():\n",
    "    pass"
   ]
  },
  {
   "cell_type": "markdown",
   "id": "3bc5d9de-305a-40bc-96f8-01214bf9fedd",
   "metadata": {},
   "source": [
    "在上面，只是定义了一个空类，没有任何实际意义\n",
    "python创建类的时候，可以不带括号，也可以带，也可以显示继承object，如果带个()空括号，隐式的继承了object。这三种方式是相等的。\n",
    " > 或者如果你想要继承其余的类，可以将其加入到括号之内"
   ]
  },
  {
   "cell_type": "markdown",
   "id": "a9b03ff4-77a5-4fac-85f7-38e45243c2b4",
   "metadata": {},
   "source": [
    "## 定义一个简单类\n",
    "我们定义一个十分简单的类\n",
    "\n",
    "类的名字为Dog\n",
    "\n",
    "他属于斑点狗（spot），作为整体的类变量\n",
    "然后，我们赋予他初始的一些属性\n",
    "年龄 10岁\n",
    "名字 tom\n",
    "体重 10斤\n",
    "然后，赋予他吃饭的动作，此动作回事其体重增加1/2进食的食物\n",
    "定义一只dog，其动作为eat，属性为age 10，name=tom"
   ]
  },
  {
   "cell_type": "code",
   "execution_count": 78,
   "id": "761118e1-7e41-489f-a83d-7bfbd1fb555c",
   "metadata": {},
   "outputs": [],
   "source": [
    "class Dog:\n",
    "    kind = 'spot'\n",
    "    def __init__(self):\n",
    "        self.age = 10\n",
    "        self.name = 'tom'\n",
    "        self.weight = 10\n",
    "    def eat(self,food):\n",
    "        self.weight = self.weight + food/2\n",
    "        return self.weight"
   ]
  },
  {
   "cell_type": "code",
   "execution_count": 79,
   "id": "082e97b4-641c-4bae-9067-52998e8e521f",
   "metadata": {},
   "outputs": [],
   "source": [
    "# 首先，我们实例化一个类，类名+括号就是实例化的具体表现\n",
    "a = Dog()"
   ]
  },
  {
   "cell_type": "code",
   "execution_count": 80,
   "id": "2b39c6f1-8e4f-4ee5-a46b-4f2a3b9465ba",
   "metadata": {},
   "outputs": [
    {
     "name": "stdout",
     "output_type": "stream",
     "text": [
      "age: 10\n",
      "name: tom\n",
      "weight: 10\n",
      "kind: spot\n"
     ]
    }
   ],
   "source": [
    "# 然后，我们看下此时a的各项状态\n",
    "print('age:',a.age)\n",
    "print('name:',a.name)\n",
    "print('weight:',a.weight)\n",
    "print('kind:',a.kind)"
   ]
  },
  {
   "cell_type": "markdown",
   "id": "718c7894-788f-4f8f-95c4-58c23e5c4885",
   "metadata": {},
   "source": [
    "此时，我们可以看到a的属性\n",
    "年龄，名字，体重等等\n",
    "假如我们需要一只新的狗子\n",
    "那么，我们可以进行如下操作"
   ]
  },
  {
   "cell_type": "code",
   "execution_count": 68,
   "id": "8606c40e-c158-4cd5-9d74-dfb0760fc13c",
   "metadata": {},
   "outputs": [],
   "source": [
    "b = Dog()\n",
    "b.age =20\n",
    "b.name = 'Happy'\n",
    "b.weight = 50"
   ]
  },
  {
   "cell_type": "code",
   "execution_count": 70,
   "id": "fee92576-0b43-4728-831b-1b2aeaaccc1d",
   "metadata": {},
   "outputs": [
    {
     "name": "stdout",
     "output_type": "stream",
     "text": [
      "age: 20\n",
      "name: Happy\n",
      "weight: 50\n"
     ]
    }
   ],
   "source": [
    "# 然后，我们看下此时b的各项状态\n",
    "print('age:',b.age)\n",
    "print('name:',b.name)\n",
    "print('weight:',b.weight)"
   ]
  },
  {
   "cell_type": "markdown",
   "id": "3a1ebd3d-55aa-4914-941a-d9c9a7b11909",
   "metadata": {},
   "source": [
    "你可能注意到了，我并没有修改类属性，也就是a和b都是spot\n",
    "类属性，是此类的共有属性\n",
    "\n",
    "我们也可以对其进行修改"
   ]
  },
  {
   "cell_type": "code",
   "execution_count": 61,
   "id": "56d1268d-c22f-49fc-893d-2ec7b9ee0f48",
   "metadata": {},
   "outputs": [
    {
     "name": "stdout",
     "output_type": "stream",
     "text": [
      "origin: spot\n",
      "changed: big\n"
     ]
    }
   ],
   "source": [
    "#例如\n",
    "print('origin:',a.kind)\n",
    "a.kind='big'\n",
    "print('changed:',a.kind)"
   ]
  },
  {
   "cell_type": "code",
   "execution_count": 62,
   "id": "01b98810-0d6c-4261-aadc-347299824bb4",
   "metadata": {},
   "outputs": [
    {
     "data": {
      "text/plain": [
       "'big'"
      ]
     },
     "execution_count": 62,
     "metadata": {},
     "output_type": "execute_result"
    }
   ],
   "source": [
    "a.kind"
   ]
  },
  {
   "cell_type": "markdown",
   "id": "38f53782-1a65-4076-a36d-24162a07f702",
   "metadata": {},
   "source": [
    "现在我们给狗子喂食"
   ]
  },
  {
   "cell_type": "code",
   "execution_count": 81,
   "id": "f14bbce2-64b3-46de-a3a7-1eb9303315d5",
   "metadata": {},
   "outputs": [
    {
     "name": "stdout",
     "output_type": "stream",
     "text": [
      "origin: 10\n",
      "dog eat and the weight is  10.5\n",
      "dog eat and the weight is  11.5\n",
      "dog eat and the weight is  13.0\n",
      "dog eat and the weight is  15.0\n",
      "dog eat and the weight is  17.5\n",
      "dog eat and the weight is  20.5\n",
      "dog eat and the weight is  24.0\n",
      "dog eat and the weight is  28.0\n",
      "dog eat and the weight is  32.5\n"
     ]
    }
   ],
   "source": [
    "print('origin:',a.weight)\n",
    "for i in range(1,10,1):\n",
    "    a.eat(i)\n",
    "    print('dog eat and the weight is ',a.weight)  "
   ]
  },
  {
   "cell_type": "markdown",
   "id": "1ab8564b-5a43-4b29-ad9c-48a7db3bbdfe",
   "metadata": {},
   "source": [
    "### 加点细节\n",
    "\n",
    "上面是，一个基本类\n",
    "我们创建了一条狗子，并使其每次进食，体重都能增加1/2食物重量\n",
    "\n",
    "现在，我们对其进行更多的，全方面的细节优化"
   ]
  },
  {
   "cell_type": "markdown",
   "id": "ad11df02-377c-45e1-8c4b-fd21d162eaa9",
   "metadata": {},
   "source": [
    "1. 加一些私有属性私有方法\n",
    "\n",
    "    在设计类时，有些属性和方法，我们并不需要完全展示给外界\n",
    "    \n",
    "    所以，我们增加一些私有属性和方法\n",
    "    \n",
    "    方法很简单在前面加__,两个下划线"
   ]
  },
  {
   "cell_type": "code",
   "execution_count": 179,
   "id": "b8607fea-c618-4e87-9f4b-a4bee0b3afe0",
   "metadata": {},
   "outputs": [],
   "source": [
    "class Dog:\n",
    "    kind = 'spot' # 共有属性\n",
    "    __lover = 'Happy' # 私有属性\n",
    "    def __init__(self):\n",
    "        self.age = 10\n",
    "        self.name = 'tom'\n",
    "        self.weight = 10\n",
    "        \n",
    "    def eat(self,food):\n",
    "        self.weight = self.weight + food/2\n",
    "        return self.weight\n",
    "    \n",
    "    def dog_lover(self):\n",
    "        print(self.__lover)\n",
    "        \n",
    "    def __check_weight(self):\n",
    "        if self.weight > 40:\n",
    "            return 'Stop'\n",
    "        \n",
    "    def auto_eat(self,days,food):\n",
    "        for i in range(1,days,1):\n",
    "            self.eat(food)  \n",
    "            print(self.weight)\n",
    "            if self.__check_weight() == 'Stop':\n",
    "                return(self.weight)\n",
    "                break"
   ]
  },
  {
   "cell_type": "code",
   "execution_count": 180,
   "id": "375ce67c-f107-49a9-8160-d73939adbbfd",
   "metadata": {},
   "outputs": [
    {
     "name": "stdout",
     "output_type": "stream",
     "text": [
      "range(1, 10)\n"
     ]
    }
   ],
   "source": [
    "print(range(1,10,1))"
   ]
  },
  {
   "cell_type": "code",
   "execution_count": 181,
   "id": "0f1cded1-4c12-4a7a-94d4-f31a2570871c",
   "metadata": {},
   "outputs": [],
   "source": [
    "# 然后初始化这个实例\n",
    "a = Dog()"
   ]
  },
  {
   "cell_type": "code",
   "execution_count": 182,
   "id": "47cc5594-b11e-4925-9421-9cd0c10a3b14",
   "metadata": {},
   "outputs": [
    {
     "ename": "AttributeError",
     "evalue": "'Dog' object has no attribute '__lover'",
     "output_type": "error",
     "traceback": [
      "\u001b[0;31m---------------------------------------------------------------------------\u001b[0m",
      "\u001b[0;31mAttributeError\u001b[0m                            Traceback (most recent call last)",
      "\u001b[0;32m<ipython-input-182-e661bcb542a9>\u001b[0m in \u001b[0;36m<module>\u001b[0;34m\u001b[0m\n\u001b[1;32m      1\u001b[0m \u001b[0;31m#看下dog的lover对象\u001b[0m\u001b[0;34m\u001b[0m\u001b[0;34m\u001b[0m\u001b[0m\n\u001b[0;32m----> 2\u001b[0;31m \u001b[0mprint\u001b[0m\u001b[0;34m(\u001b[0m\u001b[0ma\u001b[0m\u001b[0;34m.\u001b[0m\u001b[0m__lover\u001b[0m\u001b[0;34m)\u001b[0m\u001b[0;34m\u001b[0m\u001b[0m\n\u001b[0m",
      "\u001b[0;31mAttributeError\u001b[0m: 'Dog' object has no attribute '__lover'"
     ]
    }
   ],
   "source": [
    "#看下dog的lover对象\n",
    "print(a.__lover)"
   ]
  },
  {
   "cell_type": "code",
   "execution_count": 183,
   "id": "495cd42f-fb64-4413-b166-7716ab90fcb7",
   "metadata": {},
   "outputs": [],
   "source": [
    "# 出现了错误\n",
    "# 私有属性,私有属性在类外部无法直接进行访问\n",
    "# 制作私有属性的目的也是为了让人无法直接访问\n",
    "# 但是其在内部可以正常访问\n",
    "# 例如"
   ]
  },
  {
   "cell_type": "code",
   "execution_count": 184,
   "id": "76b5be14-5fd7-4280-aeea-0586028f4627",
   "metadata": {},
   "outputs": [
    {
     "name": "stdout",
     "output_type": "stream",
     "text": [
      "Happy\n"
     ]
    }
   ],
   "source": [
    "a.dog_lover()"
   ]
  },
  {
   "cell_type": "code",
   "execution_count": 185,
   "id": "cdc05d86-5aa8-4282-af14-b1b98b5d0334",
   "metadata": {},
   "outputs": [],
   "source": [
    "a._Dog__check_weight()"
   ]
  },
  {
   "cell_type": "code",
   "execution_count": 186,
   "id": "4d5fd488-35b8-44a9-8afa-525240a16a78",
   "metadata": {},
   "outputs": [
    {
     "name": "stdout",
     "output_type": "stream",
     "text": [
      "15.0\n",
      "20.0\n",
      "25.0\n",
      "30.0\n",
      "35.0\n",
      "40.0\n",
      "45.0\n"
     ]
    },
    {
     "data": {
      "text/plain": [
       "45.0"
      ]
     },
     "execution_count": 186,
     "metadata": {},
     "output_type": "execute_result"
    }
   ],
   "source": [
    "# 当然，我们也可以使用其私有方法\n",
    "a.auto_eat(100,10)"
   ]
  },
  {
   "cell_type": "code",
   "execution_count": 188,
   "id": "c74d72c3-d1e2-40e5-a568-d723c0a9c6b0",
   "metadata": {},
   "outputs": [
    {
     "data": {
      "text/plain": [
       "45.0"
      ]
     },
     "execution_count": 188,
     "metadata": {},
     "output_type": "execute_result"
    }
   ],
   "source": [
    "# 我们可以看到，经过内部的判定，其体重已经到了45公斤，停止进食\n",
    "a.weight"
   ]
  },
  {
   "cell_type": "markdown",
   "id": "daaf3fb1-16b6-46cd-ab7d-bf331fee5f9b",
   "metadata": {},
   "source": [
    "2. 实例变量\n",
    "\n",
    "   我们在上面可以看到实例变量始终为：\n",
    "    \n",
    "   self.age = 10\n",
    "    \n",
    "   self.name = 'tom'\n",
    "    \n",
    "   self.weight = 10\n",
    "    \n",
    "   其与类属性基本没有什么区别\n",
    "     \n",
    "   那么，我们来编写一个很明显的可以区别实例变量和类属性的"
   ]
  },
  {
   "cell_type": "code",
   "execution_count": 300,
   "id": "9e22de77-63f4-44a9-a71c-b0dabb6d468a",
   "metadata": {},
   "outputs": [],
   "source": [
    "class Dog:\n",
    "    kind = 'spot' # 共有属性\n",
    "    __lover = 'Happy' # 私有属性\n",
    "    def __init__(self,age,name,weight):\n",
    "        self.age = age\n",
    "        self.name = name\n",
    "        self.weight = weight\n",
    "        \n",
    "    def eat(self,food):\n",
    "        self.weight = self.weight + food/2\n",
    "        return self.weight\n",
    "    \n",
    "    def dog_lover(self):\n",
    "        print(self.__lover)\n",
    "        \n",
    "    def __check_weight(self):\n",
    "        if self.weight > 40:\n",
    "            return 'Stop'\n",
    "        \n",
    "    def auto_eat(self,days,food):\n",
    "        for i in range(1,days,1):\n",
    "            self.eat(food)  \n",
    "            print(self.weight)\n",
    "            if self.__check_weight() == 'Stop':\n",
    "                return(self.weight)\n",
    "                break"
   ]
  },
  {
   "cell_type": "code",
   "execution_count": 201,
   "id": "baa95f87-b706-44d6-a7d0-38cdefd5952e",
   "metadata": {},
   "outputs": [],
   "source": [
    "c = Dog(20,'Puppy',50) "
   ]
  },
  {
   "cell_type": "code",
   "execution_count": 202,
   "id": "341e70e8-fa06-4452-922f-811974b1bf66",
   "metadata": {},
   "outputs": [
    {
     "name": "stdout",
     "output_type": "stream",
     "text": [
      "age: 20\n",
      "name: Puppy\n",
      "weight: 50\n"
     ]
    }
   ],
   "source": [
    "# 现在来看一下实例的属性\n",
    "print('age:',c.age)\n",
    "print('name:',c.name)\n",
    "print('weight:',c.weight)"
   ]
  },
  {
   "cell_type": "code",
   "execution_count": 206,
   "id": "254ca57d-26f4-4e79-afc9-78349369b8e0",
   "metadata": {},
   "outputs": [
    {
     "name": "stdout",
     "output_type": "stream",
     "text": [
      "Happy\n",
      "spot\n"
     ]
    }
   ],
   "source": [
    "# 其类属性lover仍然为Happy，仍然是斑点狗\n",
    "c.dog_lover()\n",
    "print(c.kind)"
   ]
  },
  {
   "cell_type": "markdown",
   "id": "1abb71ff-e431-440c-8f45-a5af1f8b5877",
   "metadata": {},
   "source": [
    "## 实例\n",
    "\n",
    "我们此时已经创建了一个斑点狗的类属性，他们都喜欢‘Happy’\n",
    "\n",
    "那么我们其实就可以进行真实的类的应用\n",
    "\n",
    "假设，‘Happy’是一只漂亮的狗子，随机移动\n",
    "\n",
    "我们有三只狗子，‘Bob’，‘Tom’，‘Chu’\n",
    "\n",
    "这些狗子，每次会在吃完食物之后，随机移动一段距离\n",
    "\n",
    "当狗子与happy之间的距离小于2时，那么此狗子将会变为lucky dog"
   ]
  },
  {
   "cell_type": "code",
   "execution_count": 414,
   "id": "4a96db43-3b18-4faa-a7ce-ab3253fa6576",
   "metadata": {},
   "outputs": [],
   "source": [
    "import math\n",
    "\n",
    "\n",
    "class Dog:\n",
    "    kind = 'spot' # 共有属性\n",
    "    __lover = 'Happy' # 私有属性\n",
    "    def __init__(self, age, name, weight):\n",
    "        self.age = age\n",
    "        self.name = name\n",
    "        self.weight = weight\n",
    "        self.coord_x = random.random() * 10\n",
    "        self.coord_y = random.random() * 10\n",
    "        \n",
    "    def eat(self,food):\n",
    "        self.weight = self.weight + food/2\n",
    "        return self.weight\n",
    "    \n",
    "    def dog_lover(self):\n",
    "        print(self.__lover)\n",
    "        \n",
    "    def __check_weight(self):\n",
    "        if self.weight > 40:\n",
    "            return 'Stop'\n",
    "        \n",
    "    def run(self):\n",
    "        if abs(self.coord_x) > 10 or abs(self.coord_y) > 10:\n",
    "            self.coord_x = random.random() * 10\n",
    "            self.coord_y = random.random() * 10 \n",
    "        else:\n",
    "            self.coord_x = self.coord_x + math.sin((self.weight)) * random.random()\n",
    "            self.coord_y = self.coord_y + math.cos((self.weight)) * random.random()\n",
    "        return self.coord_x,self.coord_y\n",
    "        \n",
    "    def auto_eat(self,days,food):\n",
    "        for i in range(1,days,1):\n",
    "            self.eat(food)  \n",
    "            print(self.weight)\n",
    "            if self.__check_weight() == 'Stop':\n",
    "                return(self.weight)\n",
    "                break"
   ]
  },
  {
   "cell_type": "code",
   "execution_count": 416,
   "id": "f09d78bf-abd9-4e03-91b3-1cac3716f62d",
   "metadata": {},
   "outputs": [],
   "source": [
    "# 现在定义一个happy\n",
    "class DogH:\n",
    "    def __init__(self,weight):\n",
    "        self.weight = weight\n",
    "        self.coord_x = random.random() * 10\n",
    "        self.coord_y = random.random() * 10\n",
    "    def run(self):\n",
    "        if abs(self.coord_x) > 10 or abs(self.coord_y) > 10:\n",
    "            self.coord_x = random.random() * 10\n",
    "            self.coord_y = random.random() * 10 \n",
    "        else:\n",
    "            self.coord_x = self.coord_x + math.sin((self.weight)) + random.random()\n",
    "            self.coord_y = self.coord_y + math.cos((self.weight)) + random.random()\n",
    "        return self.coord_x,self.coord_y      \n",
    "\n"
   ]
  },
  {
   "cell_type": "code",
   "execution_count": 445,
   "id": "a88cfdde-240b-4ab3-bcc4-2a483674c278",
   "metadata": {},
   "outputs": [
    {
     "name": "stdout",
     "output_type": "stream",
     "text": [
      "Cycle: 1\n",
      "Tom Bob Chu\n",
      "3 5 7\n",
      "Cycle: 2\n",
      "Tom Bob Chu\n",
      "4 6 8\n",
      "Cycle: 3\n",
      "Tom Bob Chu\n",
      "3 6 7\n",
      "Cycle: 4\n",
      "Tom Bob Chu\n",
      "2 7 7\n",
      "Cycle: 5\n",
      "Tom Bob Chu\n",
      "1 8 6\n",
      "get happy dog\n"
     ]
    }
   ],
   "source": [
    "a = Dog(10,'Tom',10)\n",
    "b = Dog(50,'Bob',20)\n",
    "c = Dog(20,'Chu',30)\n",
    "h = DogH(10)\n",
    "\n",
    "from math import sqrt\n",
    "for i in range(100):\n",
    "    print('Cycle:',i+1)\n",
    "    a.run()\n",
    "    b.run()\n",
    "    c.run()\n",
    "    h.run()\n",
    "    dis_a = sqrt((a.coord_x-h.coord_x)**2 + (a.coord_y-h.coord_y)**2)\n",
    "    dis_b = sqrt((b.coord_x-h.coord_x)**2 + (b.coord_y-h.coord_y)**2)\n",
    "    dis_c = sqrt((c.coord_x-h.coord_x)**2 + (c.coord_y-h.coord_y)**2)\n",
    "    print(a.name,b.name,c.name)\n",
    "    print(int(dis_a),int(dis_b),int(dis_c))\n",
    "    if min([dis_a,dis_b,dis_c]) < 2:\n",
    "        print('get happy dog')\n",
    "        break"
   ]
  },
  {
   "cell_type": "markdown",
   "id": "b73273e2-4e74-4804-827f-9974b7f307f2",
   "metadata": {},
   "source": [
    "目前，你可以看到在第5个cycle的时候，Dog Tom成为了happy dog"
   ]
  }
 ],
 "metadata": {
  "kernelspec": {
   "display_name": "Python 3",
   "language": "python",
   "name": "python3"
  },
  "language_info": {
   "codemirror_mode": {
    "name": "ipython",
    "version": 3
   },
   "file_extension": ".py",
   "mimetype": "text/x-python",
   "name": "python",
   "nbconvert_exporter": "python",
   "pygments_lexer": "ipython3",
   "version": "3.7.0"
  }
 },
 "nbformat": 4,
 "nbformat_minor": 5
}
